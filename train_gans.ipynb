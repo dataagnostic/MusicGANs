{
 "cells": [
  {
   "cell_type": "code",
   "execution_count": 1,
   "id": "involved-julian",
   "metadata": {
    "executionInfo": {
     "elapsed": 4983,
     "status": "ok",
     "timestamp": 1623158259663,
     "user": {
      "displayName": "Sirasith KITTHAWEESINPOON",
      "photoUrl": "",
      "userId": "06280341497135669719"
     },
     "user_tz": -420
    },
    "id": "involved-julian"
   },
   "outputs": [],
   "source": [
    "import sys\n",
    "import matplotlib.pyplot as plt\n",
    "import numpy as np\n",
    "import glob\n",
    "import os\n",
    "import pickle\n",
    "import tensorflow as tf\n",
    "from music21 import converter, instrument, note, chord, stream\n",
    "from keras.layers import Input, Dense, Reshape, Dropout, LSTM, Bidirectional\n",
    "from keras.layers import BatchNormalization, Activation\n",
    "from keras.layers.advanced_activations import LeakyReLU\n",
    "from keras.models import Sequential, Model, load_model\n",
    "from keras.optimizers import Adam\n",
    "from keras.utils import np_utils\n",
    "import time\n",
    "from tqdm.notebook import trange, tqdm"
   ]
  },
  {
   "cell_type": "code",
   "execution_count": 2,
   "id": "collect-hunter",
   "metadata": {
    "colab": {
     "base_uri": "https://localhost:8080/"
    },
    "executionInfo": {
     "elapsed": 429,
     "status": "ok",
     "timestamp": 1623158280363,
     "user": {
      "displayName": "Sirasith KITTHAWEESINPOON",
      "photoUrl": "",
      "userId": "06280341497135669719"
     },
     "user_tz": -420
    },
    "id": "collect-hunter",
    "outputId": "0336ba3e-c14d-4609-fd23-2c656363998f"
   },
   "outputs": [
    {
     "name": "stdout",
     "output_type": "stream",
     "text": [
      "GPU 0: NVIDIA GeForce GTX 1080 Ti (UUID: GPU-1f6e482f-2053-a9f6-b7ed-5888013cd4db)\n"
     ]
    }
   ],
   "source": [
    "# List all NVIDIA GPUs as avaialble in this computer (or Colab's session)\n",
    "!nvidia-smi -L"
   ]
  },
  {
   "cell_type": "code",
   "execution_count": 3,
   "id": "perfect-formation",
   "metadata": {
    "colab": {
     "base_uri": "https://localhost:8080/"
    },
    "executionInfo": {
     "elapsed": 9,
     "status": "ok",
     "timestamp": 1623141732816,
     "user": {
      "displayName": "Sirasith KITTHAWEESINPOON",
      "photoUrl": "",
      "userId": "06280341497135669719"
     },
     "user_tz": -420
    },
    "id": "perfect-formation",
    "outputId": "d9ede9ee-2982-43c8-aac3-a01f63b148e5"
   },
   "outputs": [
    {
     "name": "stdout",
     "output_type": "stream",
     "text": [
      "Detected GPU(s): [PhysicalDevice(name='/physical_device:GPU:0', device_type='GPU')]\n"
     ]
    }
   ],
   "source": [
    "print( f\"Detected GPU(s): {tf.config.experimental.list_physical_devices('GPU')}\" )"
   ]
  },
  {
   "cell_type": "code",
   "execution_count": 4,
   "id": "sealed-poverty",
   "metadata": {
    "executionInfo": {
     "elapsed": 5,
     "status": "ok",
     "timestamp": 1623158283564,
     "user": {
      "displayName": "Sirasith KITTHAWEESINPOON",
      "photoUrl": "",
      "userId": "06280341497135669719"
     },
     "user_tz": -420
    },
    "id": "sealed-poverty"
   },
   "outputs": [],
   "source": [
    "def get_notes(path):\n",
    "    \"\"\" Get all the notes and chords from the midi files \"\"\"\n",
    "    notes = []\n",
    "\n",
    "    for file in glob.glob(path + \"/*.mid\"):\n",
    "        try:\n",
    "            midi = converter.parse(file)\n",
    "            print(\"Parsing %s\" % file)\n",
    "            \n",
    "            notes_to_parse = None\n",
    "            try: # file has instrument parts\n",
    "                s2 = instrument.partitionByInstrument(midi)\n",
    "                notes_to_parse = s2.parts[0].recurse() \n",
    "            except: # file has notes in a flat structure\n",
    "                notes_to_parse = midi.flat.notes\n",
    "\n",
    "            for element in notes_to_parse:\n",
    "                if isinstance(element, note.Note):\n",
    "                    notes.append(str(element.pitch))\n",
    "                elif isinstance(element, chord.Chord):\n",
    "                    notes.append('.'.join(str(n) for n in element.normalOrder))\n",
    "        except:\n",
    "            print(\"ERROR Parsing(SKIP) %s\" % file)\n",
    "\n",
    "    return notes"
   ]
  },
  {
   "cell_type": "code",
   "execution_count": 5,
   "id": "announced-prison",
   "metadata": {
    "executionInfo": {
     "elapsed": 357,
     "status": "ok",
     "timestamp": 1623158285773,
     "user": {
      "displayName": "Sirasith KITTHAWEESINPOON",
      "photoUrl": "",
      "userId": "06280341497135669719"
     },
     "user_tz": -420
    },
    "id": "announced-prison"
   },
   "outputs": [],
   "source": [
    "def prepare_sequences(notes, n_vocab, seq_len = 100):\n",
    "    \"\"\" Prepare the sequences used by the Neural Network \"\"\"\n",
    "    sequence_length = seq_len\n",
    "\n",
    "    # Get all pitch names\n",
    "    pitchnames = sorted(set(item for item in notes))\n",
    "\n",
    "    # Create a dictionary to map pitches to integers\n",
    "    note_to_int = dict((note, number) for number, note in enumerate(pitchnames))\n",
    "\n",
    "    network_input = []\n",
    "    network_output = []\n",
    "\n",
    "    # create input sequences and the corresponding outputs\n",
    "    for i in range(0, len(notes) - sequence_length, 1):\n",
    "        sequence_in = notes[i:i + sequence_length]\n",
    "        sequence_out = notes[i + sequence_length]\n",
    "        network_input.append([note_to_int[char] for char in sequence_in])\n",
    "        network_output.append(note_to_int[sequence_out])\n",
    "\n",
    "    n_patterns = len(network_input)\n",
    "\n",
    "    # Reshape the input into a format compatible with LSTM layers\n",
    "    network_input = np.reshape(network_input, (n_patterns, sequence_length, 1))\n",
    "    \n",
    "    # Normalize input between -1 and 1\n",
    "    network_input = (network_input - float(n_vocab)/2) / (float(n_vocab)/2)\n",
    "    # Normalize input between 0 and 1\n",
    "    #network_input = network_input/float(n_vocab)\n",
    "    network_output = np_utils.to_categorical(network_output)\n",
    "\n",
    "    return (network_input, network_output)"
   ]
  },
  {
   "cell_type": "code",
   "execution_count": 6,
   "id": "adequate-allah",
   "metadata": {
    "executionInfo": {
     "elapsed": 326,
     "status": "ok",
     "timestamp": 1623158287893,
     "user": {
      "displayName": "Sirasith KITTHAWEESINPOON",
      "photoUrl": "",
      "userId": "06280341497135669719"
     },
     "user_tz": -420
    },
    "id": "adequate-allah"
   },
   "outputs": [],
   "source": [
    "def create_midi(prediction_output, filename):\n",
    "    \"\"\" convert the output from the prediction to notes and create a midi file\n",
    "        from the notes \"\"\"\n",
    "    offset = 0\n",
    "    output_notes = []\n",
    "\n",
    "    # create note and chord objects based on the values generated by the model\n",
    "    for item in prediction_output:\n",
    "        pattern = item[0]\n",
    "        # pattern is a chord\n",
    "        if ('.' in pattern) or pattern.isdigit():\n",
    "            notes_in_chord = pattern.split('.')\n",
    "            notes = []\n",
    "            for current_note in notes_in_chord:\n",
    "                output_notes.append(instrument.Piano())                \n",
    "                new_note = note.Note(int(current_note))\n",
    "                \n",
    "                #new_note.storedInstrument = instrument.StringInstrument()\n",
    "                notes.append(new_note)\n",
    "            new_chord = chord.Chord(notes)\n",
    "            new_chord.offset = offset\n",
    "            output_notes.append(new_chord)\n",
    "        # pattern is a note\n",
    "        else:\n",
    "            output_notes.append(instrument.Piano())\n",
    "            new_note = note.Note(pattern)\n",
    "            new_note.offset = offset            \n",
    "            #new_note.storedInstrument = instrument.StringInstrument()\n",
    "            output_notes.append(new_note)\n",
    "\n",
    "        # increase offset each iteration so that notes do not stack\n",
    "        offset += 0.5\n",
    "\n",
    "    midi_stream = stream.Stream(output_notes)\n",
    "    midi_stream.write('midi', fp='{}.mid'.format(filename))"
   ]
  },
  {
   "cell_type": "code",
   "execution_count": 10,
   "id": "whole-letter",
   "metadata": {
    "executionInfo": {
     "elapsed": 601,
     "status": "ok",
     "timestamp": 1623158290680,
     "user": {
      "displayName": "Sirasith KITTHAWEESINPOON",
      "photoUrl": "",
      "userId": "06280341497135669719"
     },
     "user_tz": -420
    },
    "id": "whole-letter"
   },
   "outputs": [],
   "source": [
    "def make_generator_model(seq_len,latent_dim = 500):\n",
    "        model = Sequential()\n",
    "        model.add(Dense(512, input_dim=latent_dim))\n",
    "        model.add(LeakyReLU(alpha=0.2))\n",
    "        model.add(BatchNormalization(momentum=0.8))\n",
    "        model.add(Dense(1024))\n",
    "        model.add(LeakyReLU(alpha=0.2))\n",
    "        model.add(BatchNormalization(momentum=0.8))\n",
    "        model.add(Dense(2048))\n",
    "        model.add(LeakyReLU(alpha=0.2))\n",
    "        model.add(BatchNormalization(momentum=0.8))\n",
    "        #model.add(Dense(np.prod(self.seq_shape), activation='sigmoid'))\n",
    "        model.add(Dense(seq_len, activation='tanh'))\n",
    "        model.add(Reshape((seq_len,1)))\n",
    "        model.summary()\n",
    "        \n",
    "        noise = Input(shape=(latent_dim,))\n",
    "        seq = model(noise)\n",
    "        return Model(noise, seq)"
   ]
  },
  {
   "cell_type": "code",
   "execution_count": 11,
   "id": "stretch-guitar",
   "metadata": {
    "colab": {
     "base_uri": "https://localhost:8080/"
    },
    "executionInfo": {
     "elapsed": 1080,
     "status": "ok",
     "timestamp": 1623158293200,
     "user": {
      "displayName": "Sirasith KITTHAWEESINPOON",
      "photoUrl": "",
      "userId": "06280341497135669719"
     },
     "user_tz": -420
    },
    "id": "stretch-guitar",
    "outputId": "2f04037c-d6ee-416a-ac0d-b7576f37ef47"
   },
   "outputs": [
    {
     "name": "stdout",
     "output_type": "stream",
     "text": [
      "Model: \"sequential\"\n",
      "_________________________________________________________________\n",
      "Layer (type)                 Output Shape              Param #   \n",
      "=================================================================\n",
      "dense (Dense)                (None, 512)               256512    \n",
      "_________________________________________________________________\n",
      "leaky_re_lu (LeakyReLU)      (None, 512)               0         \n",
      "_________________________________________________________________\n",
      "batch_normalization (BatchNo (None, 512)               2048      \n",
      "_________________________________________________________________\n",
      "dense_1 (Dense)              (None, 1024)              525312    \n",
      "_________________________________________________________________\n",
      "leaky_re_lu_1 (LeakyReLU)    (None, 1024)              0         \n",
      "_________________________________________________________________\n",
      "batch_normalization_1 (Batch (None, 1024)              4096      \n",
      "_________________________________________________________________\n",
      "dense_2 (Dense)              (None, 2048)              2099200   \n",
      "_________________________________________________________________\n",
      "leaky_re_lu_2 (LeakyReLU)    (None, 2048)              0         \n",
      "_________________________________________________________________\n",
      "batch_normalization_2 (Batch (None, 2048)              8192      \n",
      "_________________________________________________________________\n",
      "dense_3 (Dense)              (None, 100)               204900    \n",
      "_________________________________________________________________\n",
      "reshape (Reshape)            (None, 100, 1)            0         \n",
      "=================================================================\n",
      "Total params: 3,100,260\n",
      "Trainable params: 3,093,092\n",
      "Non-trainable params: 7,168\n",
      "_________________________________________________________________\n",
      "tf.Tensor(\n",
      "[[[ 0.36879486]\n",
      "  [ 0.30927098]\n",
      "  [ 0.1719307 ]\n",
      "  [-0.35766688]\n",
      "  [ 0.1285054 ]\n",
      "  [ 0.06790611]\n",
      "  [-0.42035854]\n",
      "  [ 0.66610813]\n",
      "  [ 0.10870928]\n",
      "  [-0.093973  ]\n",
      "  [ 0.17368811]\n",
      "  [ 0.15043423]\n",
      "  [ 0.06733301]\n",
      "  [ 0.00135752]\n",
      "  [-0.32436958]\n",
      "  [ 0.1969883 ]\n",
      "  [ 0.14066988]\n",
      "  [ 0.02158777]\n",
      "  [-0.1770657 ]\n",
      "  [-0.13582683]\n",
      "  [ 0.25778103]\n",
      "  [-0.13580298]\n",
      "  [ 0.49588963]\n",
      "  [ 0.3175262 ]\n",
      "  [ 0.13317999]\n",
      "  [ 0.37311497]\n",
      "  [-0.21171091]\n",
      "  [-0.57440954]\n",
      "  [-0.22946903]\n",
      "  [ 0.5613153 ]\n",
      "  [-0.5428276 ]\n",
      "  [ 0.02993097]\n",
      "  [ 0.15330054]\n",
      "  [ 0.4079958 ]\n",
      "  [-0.06128409]\n",
      "  [-0.6600239 ]\n",
      "  [-0.30902827]\n",
      "  [ 0.15267053]\n",
      "  [-0.03676917]\n",
      "  [-0.18732715]\n",
      "  [ 0.6405731 ]\n",
      "  [ 0.11519315]\n",
      "  [ 0.13894029]\n",
      "  [ 0.21284764]\n",
      "  [-0.23815536]\n",
      "  [ 0.05044296]\n",
      "  [ 0.23970802]\n",
      "  [-0.05197438]\n",
      "  [-0.5465819 ]\n",
      "  [ 0.16480502]\n",
      "  [ 0.27096602]\n",
      "  [-0.08869766]\n",
      "  [ 0.34949696]\n",
      "  [ 0.20482394]\n",
      "  [-0.05807379]\n",
      "  [-0.43744498]\n",
      "  [ 0.16913015]\n",
      "  [-0.381722  ]\n",
      "  [-0.05235312]\n",
      "  [-0.610834  ]\n",
      "  [-0.3043717 ]\n",
      "  [-0.32067117]\n",
      "  [-0.5677791 ]\n",
      "  [ 0.1178681 ]\n",
      "  [-0.20824854]\n",
      "  [-0.18654147]\n",
      "  [-0.1954914 ]\n",
      "  [-0.16361894]\n",
      "  [-0.07585388]\n",
      "  [ 0.4929762 ]\n",
      "  [ 0.00350051]\n",
      "  [ 0.00285732]\n",
      "  [-0.32848477]\n",
      "  [ 0.5802136 ]\n",
      "  [ 0.00417857]\n",
      "  [ 0.03471171]\n",
      "  [ 0.18824561]\n",
      "  [ 0.45130765]\n",
      "  [ 0.14247437]\n",
      "  [-0.46657136]\n",
      "  [ 0.07297859]\n",
      "  [-0.330537  ]\n",
      "  [ 0.45671535]\n",
      "  [ 0.20256351]\n",
      "  [-0.13829601]\n",
      "  [-0.31499422]\n",
      "  [ 0.34837222]\n",
      "  [-0.4947525 ]\n",
      "  [-0.03816533]\n",
      "  [ 0.22965144]\n",
      "  [-0.3090065 ]\n",
      "  [ 0.010093  ]\n",
      "  [-0.5987447 ]\n",
      "  [ 0.31408274]\n",
      "  [ 0.5528266 ]\n",
      "  [-0.32913098]\n",
      "  [-0.37975374]\n",
      "  [ 0.03220645]\n",
      "  [ 0.12660229]\n",
      "  [ 0.04585272]]], shape=(1, 100, 1), dtype=float32)\n"
     ]
    }
   ],
   "source": [
    "seq_len = 100\n",
    "latent_dim = 500\n",
    "generator = make_generator_model(seq_len,latent_dim)\n",
    "\n",
    "noise = tf.random.normal([1, latent_dim])\n",
    "generated_seq = generator(noise, training=False)\n",
    "\n",
    "print(generated_seq)"
   ]
  },
  {
   "cell_type": "code",
   "execution_count": 12,
   "id": "adjacent-camel",
   "metadata": {
    "executionInfo": {
     "elapsed": 334,
     "status": "ok",
     "timestamp": 1623158297098,
     "user": {
      "displayName": "Sirasith KITTHAWEESINPOON",
      "photoUrl": "",
      "userId": "06280341497135669719"
     },
     "user_tz": -420
    },
    "id": "adjacent-camel"
   },
   "outputs": [],
   "source": [
    "def make_discriminator_model(seq_len):\n",
    "    model = Sequential()\n",
    "    model.add(LSTM(512, input_shape=(seq_len,1), return_sequences=True))\n",
    "    model.add(Bidirectional(LSTM(512)))\n",
    "    model.add(Dense(1024))\n",
    "    model.add(LeakyReLU(alpha=0.2))\n",
    "    model.add(Dense(512))\n",
    "    model.add(LeakyReLU(alpha=0.2))\n",
    "    model.add(Dense(1))\n",
    "    model.summary()\n",
    "\n",
    "    seq = Input(shape=(seq_len,1))\n",
    "    validity = model(seq)\n",
    "\n",
    "    return Model(seq, validity)"
   ]
  },
  {
   "cell_type": "code",
   "execution_count": 13,
   "id": "studied-cancer",
   "metadata": {
    "colab": {
     "base_uri": "https://localhost:8080/"
    },
    "executionInfo": {
     "elapsed": 8735,
     "status": "ok",
     "timestamp": 1623158307488,
     "user": {
      "displayName": "Sirasith KITTHAWEESINPOON",
      "photoUrl": "",
      "userId": "06280341497135669719"
     },
     "user_tz": -420
    },
    "id": "studied-cancer",
    "outputId": "a40ff717-8026-46a0-e2ed-63c91dd672e2"
   },
   "outputs": [
    {
     "name": "stdout",
     "output_type": "stream",
     "text": [
      "Model: \"sequential_1\"\n",
      "_________________________________________________________________\n",
      "Layer (type)                 Output Shape              Param #   \n",
      "=================================================================\n",
      "lstm (LSTM)                  (None, 100, 512)          1052672   \n",
      "_________________________________________________________________\n",
      "bidirectional (Bidirectional (None, 1024)              4198400   \n",
      "_________________________________________________________________\n",
      "dense_4 (Dense)              (None, 1024)              1049600   \n",
      "_________________________________________________________________\n",
      "leaky_re_lu_3 (LeakyReLU)    (None, 1024)              0         \n",
      "_________________________________________________________________\n",
      "dense_5 (Dense)              (None, 512)               524800    \n",
      "_________________________________________________________________\n",
      "leaky_re_lu_4 (LeakyReLU)    (None, 512)               0         \n",
      "_________________________________________________________________\n",
      "dense_6 (Dense)              (None, 1)                 513       \n",
      "=================================================================\n",
      "Total params: 6,825,985\n",
      "Trainable params: 6,825,985\n",
      "Non-trainable params: 0\n",
      "_________________________________________________________________\n",
      "tf.Tensor([[-0.00190335]], shape=(1, 1), dtype=float32)\n"
     ]
    }
   ],
   "source": [
    "discriminator = make_discriminator_model(seq_len)\n",
    "decision = discriminator(generated_seq)\n",
    "print (decision)"
   ]
  },
  {
   "cell_type": "code",
   "execution_count": 14,
   "id": "exclusive-covering",
   "metadata": {
    "executionInfo": {
     "elapsed": 14,
     "status": "ok",
     "timestamp": 1623158307488,
     "user": {
      "displayName": "Sirasith KITTHAWEESINPOON",
      "photoUrl": "",
      "userId": "06280341497135669719"
     },
     "user_tz": -420
    },
    "id": "exclusive-covering"
   },
   "outputs": [],
   "source": [
    "# This method returns a helper function to compute cross entropy loss\n",
    "cross_entropy = tf.keras.losses.BinaryCrossentropy(from_logits=True)"
   ]
  },
  {
   "cell_type": "code",
   "execution_count": 15,
   "id": "endangered-parliament",
   "metadata": {
    "executionInfo": {
     "elapsed": 485,
     "status": "ok",
     "timestamp": 1623158310496,
     "user": {
      "displayName": "Sirasith KITTHAWEESINPOON",
      "photoUrl": "",
      "userId": "06280341497135669719"
     },
     "user_tz": -420
    },
    "id": "endangered-parliament"
   },
   "outputs": [],
   "source": [
    "def discriminator_loss(real_output, fake_output):\n",
    "    real_loss = cross_entropy(tf.ones_like(real_output), real_output)\n",
    "    fake_loss = cross_entropy(tf.zeros_like(fake_output), fake_output)\n",
    "    total_loss = real_loss + fake_loss\n",
    "    return total_loss"
   ]
  },
  {
   "cell_type": "code",
   "execution_count": 16,
   "id": "equivalent-eugene",
   "metadata": {
    "executionInfo": {
     "elapsed": 2,
     "status": "ok",
     "timestamp": 1623158311877,
     "user": {
      "displayName": "Sirasith KITTHAWEESINPOON",
      "photoUrl": "",
      "userId": "06280341497135669719"
     },
     "user_tz": -420
    },
    "id": "equivalent-eugene"
   },
   "outputs": [],
   "source": [
    "def generator_loss(fake_output):\n",
    "    return cross_entropy(tf.ones_like(fake_output), fake_output)"
   ]
  },
  {
   "cell_type": "code",
   "execution_count": 17,
   "id": "insured-cricket",
   "metadata": {
    "executionInfo": {
     "elapsed": 2,
     "status": "ok",
     "timestamp": 1623158312962,
     "user": {
      "displayName": "Sirasith KITTHAWEESINPOON",
      "photoUrl": "",
      "userId": "06280341497135669719"
     },
     "user_tz": -420
    },
    "id": "insured-cricket"
   },
   "outputs": [],
   "source": [
    "generator_optimizer = tf.keras.optimizers.Adam(1e-4)\n",
    "discriminator_optimizer = tf.keras.optimizers.Adam(1e-4)"
   ]
  },
  {
   "cell_type": "code",
   "execution_count": 18,
   "id": "internal-sustainability",
   "metadata": {
    "executionInfo": {
     "elapsed": 466,
     "status": "ok",
     "timestamp": 1623158315288,
     "user": {
      "displayName": "Sirasith KITTHAWEESINPOON",
      "photoUrl": "",
      "userId": "06280341497135669719"
     },
     "user_tz": -420
    },
    "id": "internal-sustainability"
   },
   "outputs": [],
   "source": [
    "checkpoint_dir = './training_checkpoints3'\n",
    "checkpoint_prefix = os.path.join(checkpoint_dir, \"ckpt\")\n",
    "checkpoint = tf.train.Checkpoint(generator_optimizer=generator_optimizer,\n",
    "                                 discriminator_optimizer=discriminator_optimizer,\n",
    "                                 generator=generator,\n",
    "                                 discriminator=discriminator)"
   ]
  },
  {
   "cell_type": "code",
   "execution_count": 16,
   "id": "political-associate",
   "metadata": {
    "colab": {
     "base_uri": "https://localhost:8080/"
    },
    "executionInfo": {
     "elapsed": 555282,
     "status": "ok",
     "timestamp": 1623158872885,
     "user": {
      "displayName": "Sirasith KITTHAWEESINPOON",
      "photoUrl": "",
      "userId": "06280341497135669719"
     },
     "user_tz": -420
    },
    "id": "political-associate",
    "outputId": "68feb19a-6ea3-4028-e0a4-8c5e5ae91ea3"
   },
   "outputs": [
    {
     "name": "stdout",
     "output_type": "stream",
     "text": [
      "Parsing Piano Sonatas\\K19d Piano Sonata Duet.mid\n",
      "Parsing Piano Sonatas\\K279 Piano sonata n01 1mov.mid\n",
      "Parsing Piano Sonatas\\K279 Piano sonata n01 2mov.mid\n",
      "Parsing Piano Sonatas\\K279 Piano sonata n01 3mov.mid\n",
      "Parsing Piano Sonatas\\K280 Piano sonata n02 1mov.mid\n",
      "Parsing Piano Sonatas\\K280 Piano sonata n02 2mov.mid\n",
      "Parsing Piano Sonatas\\K280 Piano sonata n02 3mov.mid\n",
      "Parsing Piano Sonatas\\K281 Piano Sonata n03 1mov.mid\n",
      "Parsing Piano Sonatas\\K281 Piano Sonata n03 2mov.mid\n",
      "Parsing Piano Sonatas\\K281 Piano Sonata n03 3mov.mid\n",
      "Parsing Piano Sonatas\\K282 Piano Sonata n04 .mid\n",
      "Parsing Piano Sonatas\\K284 Piano Sonata n06 .mid\n",
      "Parsing Piano Sonatas\\K309 Piano Sonata n10 1mov.mid\n",
      "Parsing Piano Sonatas\\K309 Piano Sonata n10 2mov.mid\n",
      "Parsing Piano Sonatas\\K309 Piano Sonata n10 3mov.mid\n",
      "Parsing Piano Sonatas\\K330 Piano Sonata n10 1mov.mid\n",
      "Parsing Piano Sonatas\\K330 Piano Sonata n10 2mov.mid\n",
      "Parsing Piano Sonatas\\K330 Piano Sonata n10 3mov.mid\n",
      "Parsing Piano Sonatas\\K331 Piano Sonata n11 .mid\n",
      "Parsing Piano Sonatas\\K331 Piano sonata n11 3mov.mid\n",
      "Parsing Piano Sonatas\\K332 Piano Sonata n12 1mov.mid\n",
      "Parsing Piano Sonatas\\K332 Piano Sonata n12 2mov.mid\n",
      "Parsing Piano Sonatas\\K332 Piano Sonata n12 3mov.mid\n",
      "Parsing Piano Sonatas\\K333 Piano Sonata n13 .mid\n",
      "Parsing Piano Sonatas\\K333 Piano Sonata n13 1mov.mid\n",
      "Parsing Piano Sonatas\\K333 Piano Sonata n13 2mov.mid\n",
      "Parsing Piano Sonatas\\K333 Piano Sonata n13 3mov.mid\n",
      "Parsing Piano Sonatas\\K357 Piano Sonata 4 Hands.mid\n",
      "Parsing Piano Sonatas\\K358 Piano Sonata 4 Hands.mid\n",
      "Parsing Piano Sonatas\\K381 Piano Sonata 4 Hands.mid\n",
      "Parsing Piano Sonatas\\K457 Piano Sonata n14 .mid\n",
      "Parsing Piano Sonatas\\K497 Piano Sonata 4 Hands.mid\n",
      "Parsing Piano Sonatas\\K521 Piano Sonata 4 Hands.mid\n",
      "Parsing Piano Sonatas\\K545 Piano Sonata.mid\n",
      "Parsing Piano Sonatas\\K570 Piano Sonata 1mov.mid\n",
      "Parsing Piano Sonatas\\K570 Piano Sonata 2mov.mid\n",
      "Parsing Piano Sonatas\\K570 Piano Sonata 3mov.mid\n",
      "Parsing Piano Sonatas\\K576 Piano Sonata n19 .mid\n",
      "Parsing Piano Sonatas\\Piano Sonata n01 K279.mid\n",
      "Parsing Piano Sonatas\\Piano Sonata n02 K280.mid\n",
      "Parsing Piano Sonatas\\Piano Sonata n03 K281.mid\n",
      "Parsing Piano Sonatas\\Piano Sonata n04 K282.mid\n",
      "Parsing Piano Sonatas\\Piano Sonata n05 K283.mid\n",
      "Parsing Piano Sonatas\\Piano Sonata n06 K284.mid\n",
      "Parsing Piano Sonatas\\Piano Sonata n07 K309.mid\n",
      "Parsing Piano Sonatas\\Piano Sonata n08 K311.mid\n",
      "Parsing Piano Sonatas\\Piano Sonata n09 K310.mid\n",
      "Parsing Piano Sonatas\\Piano Sonata n10 K330.mid\n",
      "Parsing Piano Sonatas\\Piano Sonata n11 K331.mid\n",
      "Parsing Piano Sonatas\\Piano Sonata n12 K332.mid\n",
      "Parsing Piano Sonatas\\Piano Sonata n13 K333.mid\n",
      "Parsing Piano Sonatas\\Piano Sonata n14 K457.mid\n",
      "Parsing Piano Sonatas\\Piano Sonata n15 K593-494.mid\n",
      "Parsing Piano Sonatas\\Piano Sonata n16 K545.mid\n",
      "Parsing Piano Sonatas\\Piano Sonata n17 K547a.mid\n",
      "Parsing Piano Sonatas\\Piano Sonata n18 K570.mid\n",
      "Parsing Piano Sonatas\\Piano Sonata n19 K576.mid\n"
     ]
    }
   ],
   "source": [
    "path = 'Piano Sonatas'\n",
    "notes = get_notes(path)"
   ]
  },
  {
   "cell_type": "code",
   "execution_count": 19,
   "id": "absent-operator",
   "metadata": {},
   "outputs": [],
   "source": [
    "filename = 'notes_chopin'\n",
    "with open('notes/'+filename, 'rb') as filepath:\n",
    "    notes = pickle.load(filepath)"
   ]
  },
  {
   "cell_type": "code",
   "execution_count": 17,
   "id": "advanced-syntax",
   "metadata": {
    "colab": {
     "base_uri": "https://localhost:8080/"
    },
    "executionInfo": {
     "elapsed": 30431,
     "status": "ok",
     "timestamp": 1623158903310,
     "user": {
      "displayName": "Sirasith KITTHAWEESINPOON",
      "photoUrl": "",
      "userId": "06280341497135669719"
     },
     "user_tz": -420
    },
    "id": "advanced-syntax",
    "outputId": "6e10f12d-2383-4053-a9c6-9646c3655ef5"
   },
   "outputs": [
    {
     "name": "stdout",
     "output_type": "stream",
     "text": [
      "236293\n"
     ]
    }
   ],
   "source": [
    "n_vocab = len(set(notes))\n",
    "X_train, y_train = prepare_sequences(notes, n_vocab)\n",
    "print(X_train.shape[0])"
   ]
  },
  {
   "cell_type": "code",
   "execution_count": 18,
   "id": "effective-discrimination",
   "metadata": {
    "executionInfo": {
     "elapsed": 314,
     "status": "ok",
     "timestamp": 1623158928225,
     "user": {
      "displayName": "Sirasith KITTHAWEESINPOON",
      "photoUrl": "",
      "userId": "06280341497135669719"
     },
     "user_tz": -420
    },
    "id": "effective-discrimination"
   },
   "outputs": [],
   "source": [
    "BATCH_SIZE = 256\n",
    "BUFFER_SIZE = int(X_train.shape[0]/10)\n",
    "train_dataset = tf.data.Dataset.from_tensor_slices(X_train).shuffle(BUFFER_SIZE).batch(BATCH_SIZE)"
   ]
  },
  {
   "cell_type": "code",
   "execution_count": 19,
   "id": "exterior-agriculture",
   "metadata": {
    "executionInfo": {
     "elapsed": 330,
     "status": "ok",
     "timestamp": 1623158931849,
     "user": {
      "displayName": "Sirasith KITTHAWEESINPOON",
      "photoUrl": "",
      "userId": "06280341497135669719"
     },
     "user_tz": -420
    },
    "id": "exterior-agriculture"
   },
   "outputs": [],
   "source": [
    "EPOCHS = 50\n",
    "noise_dim = 500\n",
    "#num_examples_to_generate = 16\n",
    "\n",
    "# You will reuse this seed overtime (so it's easier)\n",
    "#seed = tf.random.normal([num_examples_to_generate, noise_dim])"
   ]
  },
  {
   "cell_type": "code",
   "execution_count": 20,
   "id": "personal-amsterdam",
   "metadata": {
    "executionInfo": {
     "elapsed": 376,
     "status": "ok",
     "timestamp": 1623158934535,
     "user": {
      "displayName": "Sirasith KITTHAWEESINPOON",
      "photoUrl": "",
      "userId": "06280341497135669719"
     },
     "user_tz": -420
    },
    "id": "personal-amsterdam"
   },
   "outputs": [],
   "source": [
    "# Notice the use of `tf.function`\n",
    "# This annotation causes the function to be \"compiled\".\n",
    "@tf.function\n",
    "def train_step(real_data):  \n",
    "    noise = tf.random.normal([BATCH_SIZE, noise_dim])\n",
    "\n",
    "    with tf.GradientTape() as gen_tape, tf.GradientTape() as disc_tape:\n",
    "        fake_data = generator(noise, training=True)\n",
    "\n",
    "        real_output = discriminator(real_data, training=True)\n",
    "        fake_output = discriminator(fake_data, training=True)\n",
    "\n",
    "        disc_loss = discriminator_loss(real_output, fake_output)        \n",
    "        gen_loss = generator_loss(fake_output)\n",
    "\n",
    "    gradients_of_generator = gen_tape.gradient(gen_loss, generator.trainable_variables)\n",
    "    gradients_of_discriminator = disc_tape.gradient(disc_loss, discriminator.trainable_variables)\n",
    "\n",
    "    generator_optimizer.apply_gradients(zip(gradients_of_generator, generator.trainable_variables))\n",
    "    discriminator_optimizer.apply_gradients(zip(gradients_of_discriminator, discriminator.trainable_variables))\n",
    "    return gen_loss, disc_loss"
   ]
  },
  {
   "cell_type": "code",
   "execution_count": 21,
   "id": "beginning-shannon",
   "metadata": {},
   "outputs": [],
   "source": [
    "def plot_loss(g_loss, d_loss):    \n",
    "    plt.plot(d_loss, c='red')\n",
    "    plt.plot(g_loss, c='blue')\n",
    "    plt.title(\"GAN Loss per Epoch (Chopin)\")\n",
    "    plt.legend(['Discriminator', 'Generator'])\n",
    "    plt.xlabel('Epoch')\n",
    "    plt.ylabel('Loss')\n",
    "    plt.savefig('plot/GAN_Loss_per_Epoch_Chopin.png')\n",
    "    plt.close()"
   ]
  },
  {
   "cell_type": "code",
   "execution_count": 22,
   "id": "orange-night",
   "metadata": {
    "executionInfo": {
     "elapsed": 332,
     "status": "ok",
     "timestamp": 1623158937788,
     "user": {
      "displayName": "Sirasith KITTHAWEESINPOON",
      "photoUrl": "",
      "userId": "06280341497135669719"
     },
     "user_tz": -420
    },
    "id": "orange-night"
   },
   "outputs": [],
   "source": [
    "def train(dataset, epochs):\n",
    "    g_loss = [] \n",
    "    d_loss = []\n",
    "    for epoch in tqdm(range(epochs), desc='Epoch:'):     \n",
    "        start = time.time()\n",
    "        batch_g_loss = [] \n",
    "        batch_d_loss = []\n",
    "        for note_batch in tqdm(dataset, desc='Batch:', leave = False):\n",
    "            gen_loss, disc_loss = train_step(note_batch)\n",
    "            batch_g_loss.append(gen_loss.numpy())\n",
    "            batch_d_loss.append(disc_loss.numpy())\n",
    "        # Save the model every 10 epochs\n",
    "        if (epoch + 1) % 10 == 0:\n",
    "            checkpoint.save(file_prefix = checkpoint_prefix)\n",
    "        g_loss.append( float (sum(batch_g_loss)/len(batch_g_loss)) )\n",
    "        d_loss.append( float (sum(batch_d_loss)/len(batch_d_loss)) )\n",
    "        print ('Time for epoch {} is {} sec'.format(epoch + 1, time.time()-start))\n",
    "\n",
    "    # Generate after the final epoch\n",
    "    generate(generator, notes, 'gan_chopin')\n",
    "    generator.save('model/model_gen_chopin.hdf5')\n",
    "    plot_loss(g_loss, d_loss)"
   ]
  },
  {
   "cell_type": "code",
   "execution_count": 20,
   "id": "functional-protocol",
   "metadata": {
    "executionInfo": {
     "elapsed": 337,
     "status": "ok",
     "timestamp": 1623158943192,
     "user": {
      "displayName": "Sirasith KITTHAWEESINPOON",
      "photoUrl": "",
      "userId": "06280341497135669719"
     },
     "user_tz": -420
    },
    "id": "functional-protocol"
   },
   "outputs": [],
   "source": [
    "def generate(model, input_notes, filename, latent_dim = 500):\n",
    "    # Get pitch names and store in a dictionary\n",
    "    notes = input_notes\n",
    "    pitchnames = sorted(set(item for item in notes))\n",
    "    int_to_note = dict((number, note) for number, note in enumerate(pitchnames))\n",
    "\n",
    "    # Use random noise to generate sequences\n",
    "    noise = tf.random.normal([1, latent_dim])\n",
    "    #noise = np.random.normal(0, 1, (1, latent_dim))\n",
    "    predictions = model.predict(noise)\n",
    "    #for normalized -1 to 1\n",
    "    p = len(pitchnames)/2\n",
    "    pred_notes = [x*p+p for x in predictions[0]]\n",
    "    #for normalized 0 to 1\n",
    "    #p = len(pitchnames)\n",
    "    #pred_notes = [x*p for x in predictions[0]]\n",
    "    pred_notes = [int_to_note[int(x)] for x in pred_notes]\n",
    "    print('pred_notes:',pred_notes)\n",
    "    create_midi(pred_notes, filename)"
   ]
  },
  {
   "cell_type": "code",
   "execution_count": 24,
   "id": "efficient-destiny",
   "metadata": {
    "colab": {
     "base_uri": "https://localhost:8080/",
     "height": 81,
     "referenced_widgets": [
      "d3bbfc8c5cc64cb79fc46f5e1321d30b",
      "1177b6ab1129485f930532eda4562857",
      "5d5d966d296c487198fca1c0573cd449",
      "316fbe84f2294f7bb50663bf71e97d7f",
      "d7aea94b81a748d796f11701a763baa7",
      "ea23365d212f406eb373aa473f476f34",
      "3f296b1c493f482eafad80c9fb9c7344",
      "f600e8feba5d421b8011d7799302acce",
      "2c58ff3aec8441cbab415115c2ad7564",
      "9924eaec60d04f68b3e935fa50c0b692",
      "8828e3ee08a744fd8f295afc817ac5ec",
      "5d025040eb844409a7e607f052863ecd",
      "cc76febfb6e24314ac2f5f5e1fab761e",
      "4a1b87c734e240a9a87c0ea50f9158ca",
      "cc75d8b585af4b56827af30abe2e21e8",
      "3dd65351de684c96a12a18ce693ccb4e"
     ]
    },
    "id": "efficient-destiny",
    "outputId": "eb1ad657-c4f3-475e-e75d-81dd85c32f8f"
   },
   "outputs": [
    {
     "data": {
      "application/vnd.jupyter.widget-view+json": {
       "model_id": "7ff59a8738374f45be9b0092886f3c09",
       "version_major": 2,
       "version_minor": 0
      },
      "text/plain": [
       "Epoch::   0%|          | 0/50 [00:00<?, ?it/s]"
      ]
     },
     "metadata": {},
     "output_type": "display_data"
    },
    {
     "data": {
      "application/vnd.jupyter.widget-view+json": {
       "model_id": "",
       "version_major": 2,
       "version_minor": 0
      },
      "text/plain": [
       "Batch::   0%|          | 0/924 [00:00<?, ?it/s]"
      ]
     },
     "metadata": {},
     "output_type": "display_data"
    },
    {
     "name": "stdout",
     "output_type": "stream",
     "text": [
      "Time for epoch 1 is 1177.4114904403687 sec\n"
     ]
    },
    {
     "data": {
      "application/vnd.jupyter.widget-view+json": {
       "model_id": "",
       "version_major": 2,
       "version_minor": 0
      },
      "text/plain": [
       "Batch::   0%|          | 0/924 [00:00<?, ?it/s]"
      ]
     },
     "metadata": {},
     "output_type": "display_data"
    },
    {
     "name": "stdout",
     "output_type": "stream",
     "text": [
      "Time for epoch 2 is 1155.535148859024 sec\n"
     ]
    },
    {
     "data": {
      "application/vnd.jupyter.widget-view+json": {
       "model_id": "",
       "version_major": 2,
       "version_minor": 0
      },
      "text/plain": [
       "Batch::   0%|          | 0/924 [00:00<?, ?it/s]"
      ]
     },
     "metadata": {},
     "output_type": "display_data"
    },
    {
     "name": "stdout",
     "output_type": "stream",
     "text": [
      "Time for epoch 3 is 1176.2864968776703 sec\n"
     ]
    },
    {
     "data": {
      "application/vnd.jupyter.widget-view+json": {
       "model_id": "",
       "version_major": 2,
       "version_minor": 0
      },
      "text/plain": [
       "Batch::   0%|          | 0/924 [00:00<?, ?it/s]"
      ]
     },
     "metadata": {},
     "output_type": "display_data"
    },
    {
     "name": "stdout",
     "output_type": "stream",
     "text": [
      "Time for epoch 4 is 1179.0138175487518 sec\n"
     ]
    },
    {
     "data": {
      "application/vnd.jupyter.widget-view+json": {
       "model_id": "",
       "version_major": 2,
       "version_minor": 0
      },
      "text/plain": [
       "Batch::   0%|          | 0/924 [00:00<?, ?it/s]"
      ]
     },
     "metadata": {},
     "output_type": "display_data"
    },
    {
     "name": "stdout",
     "output_type": "stream",
     "text": [
      "Time for epoch 5 is 1176.6950953006744 sec\n"
     ]
    },
    {
     "data": {
      "application/vnd.jupyter.widget-view+json": {
       "model_id": "",
       "version_major": 2,
       "version_minor": 0
      },
      "text/plain": [
       "Batch::   0%|          | 0/924 [00:00<?, ?it/s]"
      ]
     },
     "metadata": {},
     "output_type": "display_data"
    },
    {
     "name": "stdout",
     "output_type": "stream",
     "text": [
      "Time for epoch 6 is 1210.861605167389 sec\n"
     ]
    },
    {
     "data": {
      "application/vnd.jupyter.widget-view+json": {
       "model_id": "",
       "version_major": 2,
       "version_minor": 0
      },
      "text/plain": [
       "Batch::   0%|          | 0/924 [00:00<?, ?it/s]"
      ]
     },
     "metadata": {},
     "output_type": "display_data"
    },
    {
     "name": "stdout",
     "output_type": "stream",
     "text": [
      "Time for epoch 7 is 1174.195665359497 sec\n"
     ]
    },
    {
     "data": {
      "application/vnd.jupyter.widget-view+json": {
       "model_id": "",
       "version_major": 2,
       "version_minor": 0
      },
      "text/plain": [
       "Batch::   0%|          | 0/924 [00:00<?, ?it/s]"
      ]
     },
     "metadata": {},
     "output_type": "display_data"
    },
    {
     "name": "stdout",
     "output_type": "stream",
     "text": [
      "Time for epoch 8 is 1145.7797470092773 sec\n"
     ]
    },
    {
     "data": {
      "application/vnd.jupyter.widget-view+json": {
       "model_id": "",
       "version_major": 2,
       "version_minor": 0
      },
      "text/plain": [
       "Batch::   0%|          | 0/924 [00:00<?, ?it/s]"
      ]
     },
     "metadata": {},
     "output_type": "display_data"
    },
    {
     "name": "stdout",
     "output_type": "stream",
     "text": [
      "Time for epoch 9 is 1201.9405312538147 sec\n"
     ]
    },
    {
     "data": {
      "application/vnd.jupyter.widget-view+json": {
       "model_id": "",
       "version_major": 2,
       "version_minor": 0
      },
      "text/plain": [
       "Batch::   0%|          | 0/924 [00:00<?, ?it/s]"
      ]
     },
     "metadata": {},
     "output_type": "display_data"
    },
    {
     "name": "stdout",
     "output_type": "stream",
     "text": [
      "Time for epoch 10 is 1195.4035806655884 sec\n"
     ]
    },
    {
     "data": {
      "application/vnd.jupyter.widget-view+json": {
       "model_id": "",
       "version_major": 2,
       "version_minor": 0
      },
      "text/plain": [
       "Batch::   0%|          | 0/924 [00:00<?, ?it/s]"
      ]
     },
     "metadata": {},
     "output_type": "display_data"
    },
    {
     "name": "stdout",
     "output_type": "stream",
     "text": [
      "Time for epoch 11 is 1168.7515313625336 sec\n"
     ]
    },
    {
     "data": {
      "application/vnd.jupyter.widget-view+json": {
       "model_id": "",
       "version_major": 2,
       "version_minor": 0
      },
      "text/plain": [
       "Batch::   0%|          | 0/924 [00:00<?, ?it/s]"
      ]
     },
     "metadata": {},
     "output_type": "display_data"
    },
    {
     "name": "stdout",
     "output_type": "stream",
     "text": [
      "Time for epoch 12 is 1161.1961178779602 sec\n"
     ]
    },
    {
     "data": {
      "application/vnd.jupyter.widget-view+json": {
       "model_id": "",
       "version_major": 2,
       "version_minor": 0
      },
      "text/plain": [
       "Batch::   0%|          | 0/924 [00:00<?, ?it/s]"
      ]
     },
     "metadata": {},
     "output_type": "display_data"
    },
    {
     "name": "stdout",
     "output_type": "stream",
     "text": [
      "Time for epoch 13 is 1218.5167307853699 sec\n"
     ]
    },
    {
     "data": {
      "application/vnd.jupyter.widget-view+json": {
       "model_id": "",
       "version_major": 2,
       "version_minor": 0
      },
      "text/plain": [
       "Batch::   0%|          | 0/924 [00:00<?, ?it/s]"
      ]
     },
     "metadata": {},
     "output_type": "display_data"
    },
    {
     "name": "stdout",
     "output_type": "stream",
     "text": [
      "Time for epoch 14 is 1179.2723305225372 sec\n"
     ]
    },
    {
     "data": {
      "application/vnd.jupyter.widget-view+json": {
       "model_id": "",
       "version_major": 2,
       "version_minor": 0
      },
      "text/plain": [
       "Batch::   0%|          | 0/924 [00:00<?, ?it/s]"
      ]
     },
     "metadata": {},
     "output_type": "display_data"
    },
    {
     "name": "stdout",
     "output_type": "stream",
     "text": [
      "Time for epoch 15 is 1178.849612236023 sec\n"
     ]
    },
    {
     "data": {
      "application/vnd.jupyter.widget-view+json": {
       "model_id": "",
       "version_major": 2,
       "version_minor": 0
      },
      "text/plain": [
       "Batch::   0%|          | 0/924 [00:00<?, ?it/s]"
      ]
     },
     "metadata": {},
     "output_type": "display_data"
    },
    {
     "name": "stdout",
     "output_type": "stream",
     "text": [
      "Time for epoch 16 is 1180.8568227291107 sec\n"
     ]
    },
    {
     "data": {
      "application/vnd.jupyter.widget-view+json": {
       "model_id": "",
       "version_major": 2,
       "version_minor": 0
      },
      "text/plain": [
       "Batch::   0%|          | 0/924 [00:00<?, ?it/s]"
      ]
     },
     "metadata": {},
     "output_type": "display_data"
    },
    {
     "name": "stdout",
     "output_type": "stream",
     "text": [
      "Time for epoch 17 is 1180.9270164966583 sec\n"
     ]
    },
    {
     "data": {
      "application/vnd.jupyter.widget-view+json": {
       "model_id": "",
       "version_major": 2,
       "version_minor": 0
      },
      "text/plain": [
       "Batch::   0%|          | 0/924 [00:00<?, ?it/s]"
      ]
     },
     "metadata": {},
     "output_type": "display_data"
    },
    {
     "name": "stdout",
     "output_type": "stream",
     "text": [
      "Time for epoch 18 is 1195.5957033634186 sec\n"
     ]
    },
    {
     "data": {
      "application/vnd.jupyter.widget-view+json": {
       "model_id": "",
       "version_major": 2,
       "version_minor": 0
      },
      "text/plain": [
       "Batch::   0%|          | 0/924 [00:00<?, ?it/s]"
      ]
     },
     "metadata": {},
     "output_type": "display_data"
    },
    {
     "name": "stdout",
     "output_type": "stream",
     "text": [
      "Time for epoch 19 is 1194.5388247966766 sec\n"
     ]
    },
    {
     "data": {
      "application/vnd.jupyter.widget-view+json": {
       "model_id": "",
       "version_major": 2,
       "version_minor": 0
      },
      "text/plain": [
       "Batch::   0%|          | 0/924 [00:00<?, ?it/s]"
      ]
     },
     "metadata": {},
     "output_type": "display_data"
    },
    {
     "name": "stdout",
     "output_type": "stream",
     "text": [
      "Time for epoch 20 is 1195.7495908737183 sec\n"
     ]
    },
    {
     "data": {
      "application/vnd.jupyter.widget-view+json": {
       "model_id": "",
       "version_major": 2,
       "version_minor": 0
      },
      "text/plain": [
       "Batch::   0%|          | 0/924 [00:00<?, ?it/s]"
      ]
     },
     "metadata": {},
     "output_type": "display_data"
    },
    {
     "name": "stdout",
     "output_type": "stream",
     "text": [
      "Time for epoch 21 is 1219.742265701294 sec\n"
     ]
    },
    {
     "data": {
      "application/vnd.jupyter.widget-view+json": {
       "model_id": "",
       "version_major": 2,
       "version_minor": 0
      },
      "text/plain": [
       "Batch::   0%|          | 0/924 [00:00<?, ?it/s]"
      ]
     },
     "metadata": {},
     "output_type": "display_data"
    },
    {
     "name": "stdout",
     "output_type": "stream",
     "text": [
      "Time for epoch 22 is 1253.3908994197845 sec\n"
     ]
    },
    {
     "data": {
      "application/vnd.jupyter.widget-view+json": {
       "model_id": "",
       "version_major": 2,
       "version_minor": 0
      },
      "text/plain": [
       "Batch::   0%|          | 0/924 [00:00<?, ?it/s]"
      ]
     },
     "metadata": {},
     "output_type": "display_data"
    },
    {
     "name": "stdout",
     "output_type": "stream",
     "text": [
      "Time for epoch 23 is 1219.8371691703796 sec\n"
     ]
    },
    {
     "data": {
      "application/vnd.jupyter.widget-view+json": {
       "model_id": "",
       "version_major": 2,
       "version_minor": 0
      },
      "text/plain": [
       "Batch::   0%|          | 0/924 [00:00<?, ?it/s]"
      ]
     },
     "metadata": {},
     "output_type": "display_data"
    },
    {
     "name": "stdout",
     "output_type": "stream",
     "text": [
      "Time for epoch 24 is 1216.1593153476715 sec\n"
     ]
    },
    {
     "data": {
      "application/vnd.jupyter.widget-view+json": {
       "model_id": "",
       "version_major": 2,
       "version_minor": 0
      },
      "text/plain": [
       "Batch::   0%|          | 0/924 [00:00<?, ?it/s]"
      ]
     },
     "metadata": {},
     "output_type": "display_data"
    },
    {
     "name": "stdout",
     "output_type": "stream",
     "text": [
      "Time for epoch 25 is 1197.077392578125 sec\n"
     ]
    },
    {
     "data": {
      "application/vnd.jupyter.widget-view+json": {
       "model_id": "",
       "version_major": 2,
       "version_minor": 0
      },
      "text/plain": [
       "Batch::   0%|          | 0/924 [00:00<?, ?it/s]"
      ]
     },
     "metadata": {},
     "output_type": "display_data"
    },
    {
     "name": "stdout",
     "output_type": "stream",
     "text": [
      "Time for epoch 26 is 1226.2160828113556 sec\n"
     ]
    },
    {
     "data": {
      "application/vnd.jupyter.widget-view+json": {
       "model_id": "",
       "version_major": 2,
       "version_minor": 0
      },
      "text/plain": [
       "Batch::   0%|          | 0/924 [00:00<?, ?it/s]"
      ]
     },
     "metadata": {},
     "output_type": "display_data"
    },
    {
     "name": "stdout",
     "output_type": "stream",
     "text": [
      "Time for epoch 27 is 1216.1699674129486 sec\n"
     ]
    },
    {
     "data": {
      "application/vnd.jupyter.widget-view+json": {
       "model_id": "",
       "version_major": 2,
       "version_minor": 0
      },
      "text/plain": [
       "Batch::   0%|          | 0/924 [00:00<?, ?it/s]"
      ]
     },
     "metadata": {},
     "output_type": "display_data"
    },
    {
     "name": "stdout",
     "output_type": "stream",
     "text": [
      "Time for epoch 28 is 1224.25031042099 sec\n"
     ]
    },
    {
     "data": {
      "application/vnd.jupyter.widget-view+json": {
       "model_id": "",
       "version_major": 2,
       "version_minor": 0
      },
      "text/plain": [
       "Batch::   0%|          | 0/924 [00:00<?, ?it/s]"
      ]
     },
     "metadata": {},
     "output_type": "display_data"
    },
    {
     "name": "stdout",
     "output_type": "stream",
     "text": [
      "Time for epoch 29 is 1218.6020030975342 sec\n"
     ]
    },
    {
     "data": {
      "application/vnd.jupyter.widget-view+json": {
       "model_id": "",
       "version_major": 2,
       "version_minor": 0
      },
      "text/plain": [
       "Batch::   0%|          | 0/924 [00:00<?, ?it/s]"
      ]
     },
     "metadata": {},
     "output_type": "display_data"
    },
    {
     "name": "stdout",
     "output_type": "stream",
     "text": [
      "Time for epoch 30 is 1224.2223620414734 sec\n"
     ]
    },
    {
     "data": {
      "application/vnd.jupyter.widget-view+json": {
       "model_id": "",
       "version_major": 2,
       "version_minor": 0
      },
      "text/plain": [
       "Batch::   0%|          | 0/924 [00:00<?, ?it/s]"
      ]
     },
     "metadata": {},
     "output_type": "display_data"
    },
    {
     "name": "stdout",
     "output_type": "stream",
     "text": [
      "Time for epoch 31 is 1209.0956931114197 sec\n"
     ]
    },
    {
     "data": {
      "application/vnd.jupyter.widget-view+json": {
       "model_id": "",
       "version_major": 2,
       "version_minor": 0
      },
      "text/plain": [
       "Batch::   0%|          | 0/924 [00:00<?, ?it/s]"
      ]
     },
     "metadata": {},
     "output_type": "display_data"
    },
    {
     "name": "stdout",
     "output_type": "stream",
     "text": [
      "Time for epoch 32 is 1188.3309259414673 sec\n"
     ]
    },
    {
     "data": {
      "application/vnd.jupyter.widget-view+json": {
       "model_id": "",
       "version_major": 2,
       "version_minor": 0
      },
      "text/plain": [
       "Batch::   0%|          | 0/924 [00:00<?, ?it/s]"
      ]
     },
     "metadata": {},
     "output_type": "display_data"
    },
    {
     "name": "stdout",
     "output_type": "stream",
     "text": [
      "Time for epoch 33 is 1198.052397966385 sec\n"
     ]
    },
    {
     "data": {
      "application/vnd.jupyter.widget-view+json": {
       "model_id": "",
       "version_major": 2,
       "version_minor": 0
      },
      "text/plain": [
       "Batch::   0%|          | 0/924 [00:00<?, ?it/s]"
      ]
     },
     "metadata": {},
     "output_type": "display_data"
    },
    {
     "name": "stdout",
     "output_type": "stream",
     "text": [
      "Time for epoch 34 is 1211.461730480194 sec\n"
     ]
    },
    {
     "data": {
      "application/vnd.jupyter.widget-view+json": {
       "model_id": "",
       "version_major": 2,
       "version_minor": 0
      },
      "text/plain": [
       "Batch::   0%|          | 0/924 [00:00<?, ?it/s]"
      ]
     },
     "metadata": {},
     "output_type": "display_data"
    },
    {
     "name": "stdout",
     "output_type": "stream",
     "text": [
      "Time for epoch 35 is 1210.3528175354004 sec\n"
     ]
    },
    {
     "data": {
      "application/vnd.jupyter.widget-view+json": {
       "model_id": "",
       "version_major": 2,
       "version_minor": 0
      },
      "text/plain": [
       "Batch::   0%|          | 0/924 [00:00<?, ?it/s]"
      ]
     },
     "metadata": {},
     "output_type": "display_data"
    },
    {
     "name": "stdout",
     "output_type": "stream",
     "text": [
      "Time for epoch 36 is 1199.704835653305 sec\n"
     ]
    },
    {
     "data": {
      "application/vnd.jupyter.widget-view+json": {
       "model_id": "",
       "version_major": 2,
       "version_minor": 0
      },
      "text/plain": [
       "Batch::   0%|          | 0/924 [00:00<?, ?it/s]"
      ]
     },
     "metadata": {},
     "output_type": "display_data"
    },
    {
     "name": "stdout",
     "output_type": "stream",
     "text": [
      "Time for epoch 37 is 1215.1956152915955 sec\n"
     ]
    },
    {
     "data": {
      "application/vnd.jupyter.widget-view+json": {
       "model_id": "",
       "version_major": 2,
       "version_minor": 0
      },
      "text/plain": [
       "Batch::   0%|          | 0/924 [00:00<?, ?it/s]"
      ]
     },
     "metadata": {},
     "output_type": "display_data"
    },
    {
     "name": "stdout",
     "output_type": "stream",
     "text": [
      "Time for epoch 38 is 1216.5816662311554 sec\n"
     ]
    },
    {
     "data": {
      "application/vnd.jupyter.widget-view+json": {
       "model_id": "",
       "version_major": 2,
       "version_minor": 0
      },
      "text/plain": [
       "Batch::   0%|          | 0/924 [00:00<?, ?it/s]"
      ]
     },
     "metadata": {},
     "output_type": "display_data"
    },
    {
     "name": "stdout",
     "output_type": "stream",
     "text": [
      "Time for epoch 39 is 1230.9336602687836 sec\n"
     ]
    },
    {
     "data": {
      "application/vnd.jupyter.widget-view+json": {
       "model_id": "",
       "version_major": 2,
       "version_minor": 0
      },
      "text/plain": [
       "Batch::   0%|          | 0/924 [00:00<?, ?it/s]"
      ]
     },
     "metadata": {},
     "output_type": "display_data"
    },
    {
     "name": "stdout",
     "output_type": "stream",
     "text": [
      "Time for epoch 40 is 1220.8138840198517 sec\n"
     ]
    },
    {
     "data": {
      "application/vnd.jupyter.widget-view+json": {
       "model_id": "",
       "version_major": 2,
       "version_minor": 0
      },
      "text/plain": [
       "Batch::   0%|          | 0/924 [00:00<?, ?it/s]"
      ]
     },
     "metadata": {},
     "output_type": "display_data"
    },
    {
     "name": "stdout",
     "output_type": "stream",
     "text": [
      "Time for epoch 41 is 1234.3891031742096 sec\n"
     ]
    },
    {
     "data": {
      "application/vnd.jupyter.widget-view+json": {
       "model_id": "",
       "version_major": 2,
       "version_minor": 0
      },
      "text/plain": [
       "Batch::   0%|          | 0/924 [00:00<?, ?it/s]"
      ]
     },
     "metadata": {},
     "output_type": "display_data"
    },
    {
     "name": "stdout",
     "output_type": "stream",
     "text": [
      "Time for epoch 42 is 1227.6885380744934 sec\n"
     ]
    },
    {
     "data": {
      "application/vnd.jupyter.widget-view+json": {
       "model_id": "",
       "version_major": 2,
       "version_minor": 0
      },
      "text/plain": [
       "Batch::   0%|          | 0/924 [00:00<?, ?it/s]"
      ]
     },
     "metadata": {},
     "output_type": "display_data"
    },
    {
     "name": "stdout",
     "output_type": "stream",
     "text": [
      "Time for epoch 43 is 1181.852374792099 sec\n"
     ]
    },
    {
     "data": {
      "application/vnd.jupyter.widget-view+json": {
       "model_id": "",
       "version_major": 2,
       "version_minor": 0
      },
      "text/plain": [
       "Batch::   0%|          | 0/924 [00:00<?, ?it/s]"
      ]
     },
     "metadata": {},
     "output_type": "display_data"
    },
    {
     "name": "stdout",
     "output_type": "stream",
     "text": [
      "Time for epoch 44 is 1150.089703321457 sec\n"
     ]
    },
    {
     "data": {
      "application/vnd.jupyter.widget-view+json": {
       "model_id": "",
       "version_major": 2,
       "version_minor": 0
      },
      "text/plain": [
       "Batch::   0%|          | 0/924 [00:00<?, ?it/s]"
      ]
     },
     "metadata": {},
     "output_type": "display_data"
    },
    {
     "name": "stdout",
     "output_type": "stream",
     "text": [
      "Time for epoch 45 is 1147.8264601230621 sec\n"
     ]
    },
    {
     "data": {
      "application/vnd.jupyter.widget-view+json": {
       "model_id": "",
       "version_major": 2,
       "version_minor": 0
      },
      "text/plain": [
       "Batch::   0%|          | 0/924 [00:00<?, ?it/s]"
      ]
     },
     "metadata": {},
     "output_type": "display_data"
    },
    {
     "name": "stdout",
     "output_type": "stream",
     "text": [
      "Time for epoch 46 is 1148.6581389904022 sec\n"
     ]
    },
    {
     "data": {
      "application/vnd.jupyter.widget-view+json": {
       "model_id": "",
       "version_major": 2,
       "version_minor": 0
      },
      "text/plain": [
       "Batch::   0%|          | 0/924 [00:00<?, ?it/s]"
      ]
     },
     "metadata": {},
     "output_type": "display_data"
    },
    {
     "name": "stdout",
     "output_type": "stream",
     "text": [
      "Time for epoch 47 is 1153.5840742588043 sec\n"
     ]
    },
    {
     "data": {
      "application/vnd.jupyter.widget-view+json": {
       "model_id": "",
       "version_major": 2,
       "version_minor": 0
      },
      "text/plain": [
       "Batch::   0%|          | 0/924 [00:00<?, ?it/s]"
      ]
     },
     "metadata": {},
     "output_type": "display_data"
    },
    {
     "name": "stdout",
     "output_type": "stream",
     "text": [
      "Time for epoch 48 is 1150.323100566864 sec\n"
     ]
    },
    {
     "data": {
      "application/vnd.jupyter.widget-view+json": {
       "model_id": "",
       "version_major": 2,
       "version_minor": 0
      },
      "text/plain": [
       "Batch::   0%|          | 0/924 [00:00<?, ?it/s]"
      ]
     },
     "metadata": {},
     "output_type": "display_data"
    },
    {
     "name": "stdout",
     "output_type": "stream",
     "text": [
      "Time for epoch 49 is 1123.4426946640015 sec\n"
     ]
    },
    {
     "data": {
      "application/vnd.jupyter.widget-view+json": {
       "model_id": "",
       "version_major": 2,
       "version_minor": 0
      },
      "text/plain": [
       "Batch::   0%|          | 0/924 [00:00<?, ?it/s]"
      ]
     },
     "metadata": {},
     "output_type": "display_data"
    },
    {
     "name": "stdout",
     "output_type": "stream",
     "text": [
      "Time for epoch 50 is 1133.115144252777 sec\n",
      "pred_notes: ['9.0.2.4', '3.7.8.10', 'G5', 'F3', '9.1.2', 'G5', 'B-5', 'D4', 'G#3', 'G4', '9.11.1', 'F6', 'C4', 'G#1', 'C#2', 'F6', 'C#3', 'G1', 'C4', 'C#2', 'F6', 'C2', 'E-2', 'B6', 'D6', 'B-5', 'E-3', 'G1', 'B5', 'C6', 'D2', 'F1', 'G3', 'B3', 'C6', 'G4', 'B4', 'F6', 'F3', 'C#6', 'G#3', 'C#4', 'C#6', 'F#1', 'C5', 'G5', 'E-5', 'F6', 'F#6', 'E1', 'B3', 'G#3', 'F#1', 'C#3', 'G4', 'G5', 'B-5', 'F1', 'G6', 'G#3', 'E1', 'G#2', 'C#4', 'F#2', 'E7', 'G#1', 'B5', 'A6', 'B6', 'G1', 'B4', 'E6', 'F#3', 'B-5', 'G3', 'D6', 'C#4', 'G2', 'C#4', 'E5', 'F#6', 'C#2', 'G#3', 'C#3', 'F3', 'F5', 'C#6', 'B5', 'F#3', 'A1', 'G2', 'F6', 'G3', 'E2', 'F#1', 'G#3', 'E-2', '7.11.0', 'D7', 'F#6']\n"
     ]
    }
   ],
   "source": [
    "train(train_dataset, EPOCHS)"
   ]
  },
  {
   "cell_type": "code",
   "execution_count": 27,
   "id": "expected-increase",
   "metadata": {
    "colab": {
     "base_uri": "https://localhost:8080/"
    },
    "executionInfo": {
     "elapsed": 13,
     "status": "ok",
     "timestamp": 1623151380548,
     "user": {
      "displayName": "Sirasith KITTHAWEESINPOON",
      "photoUrl": "",
      "userId": "06280341497135669719"
     },
     "user_tz": -420
    },
    "id": "expected-increase",
    "outputId": "a1e74cc3-6830-4ff7-8d93-e166ce669b21"
   },
   "outputs": [
    {
     "name": "stdout",
     "output_type": "stream",
     "text": [
      "pred_notes: ['9.0.2.5', '6.8.0', '9.0.3.5', '6.8.0', '7.8', '5.6', '3.6.10', '8.0', '4.8', '9.11.2.4', '8.11.2', '3.7.8.10', '4.6.7', '9.0.2.5', '11.0.2', '5.8', '3.6.7', '4.8.11', '5.8', '7.10', '5.7.9', '3.5.8', '8.9', '7.9.0.3', '7.11.2', '7.10.0.3', '4.5.7.10', '3.5.9', '3.9', '6.10', '3.4.8', '6.9', '7.8.11', '7.10.1', '2.3.8', '7.11.1', '7.0', '5.7', '7.10.2', '6.9.0', '4.6.9.11', '2.4.9', '8.11.2.4', '7.8.11', '7.11.1', '2.5.8', '7.10.1', '6.7.9', '5', '3.7.9', '5.7', '5.7.11.0', '4.8.11', '5.8.11', '2.6', '5.7', '9.1.2', '1.5.7', '4.6.11', '3.5.9', '4', '11.4', '6.7', '3.7.9', '3.6.9', '7.8', '5.8', '3.6.8', '3.6.9', '3.6.10', '6.9.0', '2.5', '11.4', 'C#2', '6.7.11.2', '7.11.2', '7.11.1', '9.11.1', '5.7.9.11.2', '2.5.8.11', '4.5.9', '3.6.10', '6.7.11.2', '4.6.11', '8.1', '3.5.9', '9.0.3.5', '2.3.8', '5.7.11', '6.9.0.2', '6.9', '3.5.8', '2.4.7', '9.11.4', '7.9.0', '7.10.0', '5.7', '5.10', '2.5.9', '3.6']\n"
     ]
    }
   ],
   "source": [
    "generate(generator, notes, 'gan_chopin_3')"
   ]
  },
  {
   "cell_type": "markdown",
   "id": "d771ea48",
   "metadata": {},
   "source": [
    "## Export chopin note (Required when generating music)"
   ]
  },
  {
   "cell_type": "code",
   "execution_count": 48,
   "id": "continent-romantic",
   "metadata": {},
   "outputs": [],
   "source": [
    "with open('notes/notes_chopin', 'wb') as filepath:\n",
    "    pickle.dump(notes, filepath)"
   ]
  },
  {
   "cell_type": "markdown",
   "id": "a1e9c214",
   "metadata": {},
   "source": [
    "## Restore checkpoint"
   ]
  },
  {
   "cell_type": "code",
   "execution_count": 25,
   "id": "complimentary-helicopter",
   "metadata": {},
   "outputs": [
    {
     "data": {
      "text/plain": [
       "<tensorflow.python.training.tracking.util.InitializationOnlyStatus at 0x2d0e110bfd0>"
      ]
     },
     "execution_count": 25,
     "metadata": {},
     "output_type": "execute_result"
    }
   ],
   "source": [
    "#checkpoint.restore(tf.train.latest_checkpoint(checkpoint_dir))\n",
    "checkpoint.restore(tf.train.get_checkpoint_state(checkpoint_dir, latest_filename='ckpt-3' ))"
   ]
  },
  {
   "cell_type": "code",
   "execution_count": 26,
   "id": "cardiac-topic",
   "metadata": {},
   "outputs": [],
   "source": [
    " generator.save('model/model_gen_chopin_ckpt3.hdf5')"
   ]
  }
 ],
 "metadata": {
  "colab": {
   "collapsed_sections": [],
   "name": "gan.ipynb",
   "provenance": []
  },
  "kernelspec": {
   "display_name": "Python 3 (ipykernel)",
   "language": "python",
   "name": "python3"
  },
  "language_info": {
   "codemirror_mode": {
    "name": "ipython",
    "version": 3
   },
   "file_extension": ".py",
   "mimetype": "text/x-python",
   "name": "python",
   "nbconvert_exporter": "python",
   "pygments_lexer": "ipython3",
   "version": "3.7.3"
  },
  "widgets": {
   "application/vnd.jupyter.widget-state+json": {
    "1177b6ab1129485f930532eda4562857": {
     "model_module": "@jupyter-widgets/base",
     "model_name": "LayoutModel",
     "state": {
      "_model_module": "@jupyter-widgets/base",
      "_model_module_version": "1.2.0",
      "_model_name": "LayoutModel",
      "_view_count": null,
      "_view_module": "@jupyter-widgets/base",
      "_view_module_version": "1.2.0",
      "_view_name": "LayoutView",
      "align_content": null,
      "align_items": null,
      "align_self": null,
      "border": null,
      "bottom": null,
      "display": null,
      "flex": null,
      "flex_flow": null,
      "grid_area": null,
      "grid_auto_columns": null,
      "grid_auto_flow": null,
      "grid_auto_rows": null,
      "grid_column": null,
      "grid_gap": null,
      "grid_row": null,
      "grid_template_areas": null,
      "grid_template_columns": null,
      "grid_template_rows": null,
      "height": null,
      "justify_content": null,
      "justify_items": null,
      "left": null,
      "margin": null,
      "max_height": null,
      "max_width": null,
      "min_height": null,
      "min_width": null,
      "object_fit": null,
      "object_position": null,
      "order": null,
      "overflow": null,
      "overflow_x": null,
      "overflow_y": null,
      "padding": null,
      "right": null,
      "top": null,
      "visibility": null,
      "width": null
     }
    },
    "2c58ff3aec8441cbab415115c2ad7564": {
     "model_module": "@jupyter-widgets/controls",
     "model_name": "HBoxModel",
     "state": {
      "_dom_classes": [],
      "_model_module": "@jupyter-widgets/controls",
      "_model_module_version": "1.5.0",
      "_model_name": "HBoxModel",
      "_view_count": null,
      "_view_module": "@jupyter-widgets/controls",
      "_view_module_version": "1.5.0",
      "_view_name": "HBoxView",
      "box_style": "",
      "children": [
       "IPY_MODEL_8828e3ee08a744fd8f295afc817ac5ec",
       "IPY_MODEL_5d025040eb844409a7e607f052863ecd"
      ],
      "layout": "IPY_MODEL_9924eaec60d04f68b3e935fa50c0b692"
     }
    },
    "316fbe84f2294f7bb50663bf71e97d7f": {
     "model_module": "@jupyter-widgets/controls",
     "model_name": "HTMLModel",
     "state": {
      "_dom_classes": [],
      "_model_module": "@jupyter-widgets/controls",
      "_model_module_version": "1.5.0",
      "_model_name": "HTMLModel",
      "_view_count": null,
      "_view_module": "@jupyter-widgets/controls",
      "_view_module_version": "1.5.0",
      "_view_name": "HTMLView",
      "description": "",
      "description_tooltip": null,
      "layout": "IPY_MODEL_f600e8feba5d421b8011d7799302acce",
      "placeholder": "​",
      "style": "IPY_MODEL_3f296b1c493f482eafad80c9fb9c7344",
      "value": " 0/30 [00:00&lt;?, ?it/s]"
     }
    },
    "3dd65351de684c96a12a18ce693ccb4e": {
     "model_module": "@jupyter-widgets/base",
     "model_name": "LayoutModel",
     "state": {
      "_model_module": "@jupyter-widgets/base",
      "_model_module_version": "1.2.0",
      "_model_name": "LayoutModel",
      "_view_count": null,
      "_view_module": "@jupyter-widgets/base",
      "_view_module_version": "1.2.0",
      "_view_name": "LayoutView",
      "align_content": null,
      "align_items": null,
      "align_self": null,
      "border": null,
      "bottom": null,
      "display": null,
      "flex": null,
      "flex_flow": null,
      "grid_area": null,
      "grid_auto_columns": null,
      "grid_auto_flow": null,
      "grid_auto_rows": null,
      "grid_column": null,
      "grid_gap": null,
      "grid_row": null,
      "grid_template_areas": null,
      "grid_template_columns": null,
      "grid_template_rows": null,
      "height": null,
      "justify_content": null,
      "justify_items": null,
      "left": null,
      "margin": null,
      "max_height": null,
      "max_width": null,
      "min_height": null,
      "min_width": null,
      "object_fit": null,
      "object_position": null,
      "order": null,
      "overflow": null,
      "overflow_x": null,
      "overflow_y": null,
      "padding": null,
      "right": null,
      "top": null,
      "visibility": null,
      "width": null
     }
    },
    "3f296b1c493f482eafad80c9fb9c7344": {
     "model_module": "@jupyter-widgets/controls",
     "model_name": "DescriptionStyleModel",
     "state": {
      "_model_module": "@jupyter-widgets/controls",
      "_model_module_version": "1.5.0",
      "_model_name": "DescriptionStyleModel",
      "_view_count": null,
      "_view_module": "@jupyter-widgets/base",
      "_view_module_version": "1.2.0",
      "_view_name": "StyleView",
      "description_width": ""
     }
    },
    "4a1b87c734e240a9a87c0ea50f9158ca": {
     "model_module": "@jupyter-widgets/base",
     "model_name": "LayoutModel",
     "state": {
      "_model_module": "@jupyter-widgets/base",
      "_model_module_version": "1.2.0",
      "_model_name": "LayoutModel",
      "_view_count": null,
      "_view_module": "@jupyter-widgets/base",
      "_view_module_version": "1.2.0",
      "_view_name": "LayoutView",
      "align_content": null,
      "align_items": null,
      "align_self": null,
      "border": null,
      "bottom": null,
      "display": null,
      "flex": null,
      "flex_flow": null,
      "grid_area": null,
      "grid_auto_columns": null,
      "grid_auto_flow": null,
      "grid_auto_rows": null,
      "grid_column": null,
      "grid_gap": null,
      "grid_row": null,
      "grid_template_areas": null,
      "grid_template_columns": null,
      "grid_template_rows": null,
      "height": null,
      "justify_content": null,
      "justify_items": null,
      "left": null,
      "margin": null,
      "max_height": null,
      "max_width": null,
      "min_height": null,
      "min_width": null,
      "object_fit": null,
      "object_position": null,
      "order": null,
      "overflow": null,
      "overflow_x": null,
      "overflow_y": null,
      "padding": null,
      "right": null,
      "top": null,
      "visibility": null,
      "width": null
     }
    },
    "5d025040eb844409a7e607f052863ecd": {
     "model_module": "@jupyter-widgets/controls",
     "model_name": "HTMLModel",
     "state": {
      "_dom_classes": [],
      "_model_module": "@jupyter-widgets/controls",
      "_model_module_version": "1.5.0",
      "_model_name": "HTMLModel",
      "_view_count": null,
      "_view_module": "@jupyter-widgets/controls",
      "_view_module_version": "1.5.0",
      "_view_name": "HTMLView",
      "description": "",
      "description_tooltip": null,
      "layout": "IPY_MODEL_3dd65351de684c96a12a18ce693ccb4e",
      "placeholder": "​",
      "style": "IPY_MODEL_cc75d8b585af4b56827af30abe2e21e8",
      "value": " 0/779 [00:00&lt;?, ?it/s]"
     }
    },
    "5d5d966d296c487198fca1c0573cd449": {
     "model_module": "@jupyter-widgets/controls",
     "model_name": "FloatProgressModel",
     "state": {
      "_dom_classes": [],
      "_model_module": "@jupyter-widgets/controls",
      "_model_module_version": "1.5.0",
      "_model_name": "FloatProgressModel",
      "_view_count": null,
      "_view_module": "@jupyter-widgets/controls",
      "_view_module_version": "1.5.0",
      "_view_name": "ProgressView",
      "bar_style": "",
      "description": "Epoch::   0%",
      "description_tooltip": null,
      "layout": "IPY_MODEL_ea23365d212f406eb373aa473f476f34",
      "max": 30,
      "min": 0,
      "orientation": "horizontal",
      "style": "IPY_MODEL_d7aea94b81a748d796f11701a763baa7",
      "value": 0
     }
    },
    "8828e3ee08a744fd8f295afc817ac5ec": {
     "model_module": "@jupyter-widgets/controls",
     "model_name": "FloatProgressModel",
     "state": {
      "_dom_classes": [],
      "_model_module": "@jupyter-widgets/controls",
      "_model_module_version": "1.5.0",
      "_model_name": "FloatProgressModel",
      "_view_count": null,
      "_view_module": "@jupyter-widgets/controls",
      "_view_module_version": "1.5.0",
      "_view_name": "ProgressView",
      "bar_style": "",
      "description": "Batch::   0%",
      "description_tooltip": null,
      "layout": "IPY_MODEL_4a1b87c734e240a9a87c0ea50f9158ca",
      "max": 779,
      "min": 0,
      "orientation": "horizontal",
      "style": "IPY_MODEL_cc76febfb6e24314ac2f5f5e1fab761e",
      "value": 0
     }
    },
    "9924eaec60d04f68b3e935fa50c0b692": {
     "model_module": "@jupyter-widgets/base",
     "model_name": "LayoutModel",
     "state": {
      "_model_module": "@jupyter-widgets/base",
      "_model_module_version": "1.2.0",
      "_model_name": "LayoutModel",
      "_view_count": null,
      "_view_module": "@jupyter-widgets/base",
      "_view_module_version": "1.2.0",
      "_view_name": "LayoutView",
      "align_content": null,
      "align_items": null,
      "align_self": null,
      "border": null,
      "bottom": null,
      "display": null,
      "flex": null,
      "flex_flow": null,
      "grid_area": null,
      "grid_auto_columns": null,
      "grid_auto_flow": null,
      "grid_auto_rows": null,
      "grid_column": null,
      "grid_gap": null,
      "grid_row": null,
      "grid_template_areas": null,
      "grid_template_columns": null,
      "grid_template_rows": null,
      "height": null,
      "justify_content": null,
      "justify_items": null,
      "left": null,
      "margin": null,
      "max_height": null,
      "max_width": null,
      "min_height": null,
      "min_width": null,
      "object_fit": null,
      "object_position": null,
      "order": null,
      "overflow": null,
      "overflow_x": null,
      "overflow_y": null,
      "padding": null,
      "right": null,
      "top": null,
      "visibility": null,
      "width": null
     }
    },
    "cc75d8b585af4b56827af30abe2e21e8": {
     "model_module": "@jupyter-widgets/controls",
     "model_name": "DescriptionStyleModel",
     "state": {
      "_model_module": "@jupyter-widgets/controls",
      "_model_module_version": "1.5.0",
      "_model_name": "DescriptionStyleModel",
      "_view_count": null,
      "_view_module": "@jupyter-widgets/base",
      "_view_module_version": "1.2.0",
      "_view_name": "StyleView",
      "description_width": ""
     }
    },
    "cc76febfb6e24314ac2f5f5e1fab761e": {
     "model_module": "@jupyter-widgets/controls",
     "model_name": "ProgressStyleModel",
     "state": {
      "_model_module": "@jupyter-widgets/controls",
      "_model_module_version": "1.5.0",
      "_model_name": "ProgressStyleModel",
      "_view_count": null,
      "_view_module": "@jupyter-widgets/base",
      "_view_module_version": "1.2.0",
      "_view_name": "StyleView",
      "bar_color": null,
      "description_width": "initial"
     }
    },
    "d3bbfc8c5cc64cb79fc46f5e1321d30b": {
     "model_module": "@jupyter-widgets/controls",
     "model_name": "HBoxModel",
     "state": {
      "_dom_classes": [],
      "_model_module": "@jupyter-widgets/controls",
      "_model_module_version": "1.5.0",
      "_model_name": "HBoxModel",
      "_view_count": null,
      "_view_module": "@jupyter-widgets/controls",
      "_view_module_version": "1.5.0",
      "_view_name": "HBoxView",
      "box_style": "",
      "children": [
       "IPY_MODEL_5d5d966d296c487198fca1c0573cd449",
       "IPY_MODEL_316fbe84f2294f7bb50663bf71e97d7f"
      ],
      "layout": "IPY_MODEL_1177b6ab1129485f930532eda4562857"
     }
    },
    "d7aea94b81a748d796f11701a763baa7": {
     "model_module": "@jupyter-widgets/controls",
     "model_name": "ProgressStyleModel",
     "state": {
      "_model_module": "@jupyter-widgets/controls",
      "_model_module_version": "1.5.0",
      "_model_name": "ProgressStyleModel",
      "_view_count": null,
      "_view_module": "@jupyter-widgets/base",
      "_view_module_version": "1.2.0",
      "_view_name": "StyleView",
      "bar_color": null,
      "description_width": "initial"
     }
    },
    "ea23365d212f406eb373aa473f476f34": {
     "model_module": "@jupyter-widgets/base",
     "model_name": "LayoutModel",
     "state": {
      "_model_module": "@jupyter-widgets/base",
      "_model_module_version": "1.2.0",
      "_model_name": "LayoutModel",
      "_view_count": null,
      "_view_module": "@jupyter-widgets/base",
      "_view_module_version": "1.2.0",
      "_view_name": "LayoutView",
      "align_content": null,
      "align_items": null,
      "align_self": null,
      "border": null,
      "bottom": null,
      "display": null,
      "flex": null,
      "flex_flow": null,
      "grid_area": null,
      "grid_auto_columns": null,
      "grid_auto_flow": null,
      "grid_auto_rows": null,
      "grid_column": null,
      "grid_gap": null,
      "grid_row": null,
      "grid_template_areas": null,
      "grid_template_columns": null,
      "grid_template_rows": null,
      "height": null,
      "justify_content": null,
      "justify_items": null,
      "left": null,
      "margin": null,
      "max_height": null,
      "max_width": null,
      "min_height": null,
      "min_width": null,
      "object_fit": null,
      "object_position": null,
      "order": null,
      "overflow": null,
      "overflow_x": null,
      "overflow_y": null,
      "padding": null,
      "right": null,
      "top": null,
      "visibility": null,
      "width": null
     }
    },
    "f600e8feba5d421b8011d7799302acce": {
     "model_module": "@jupyter-widgets/base",
     "model_name": "LayoutModel",
     "state": {
      "_model_module": "@jupyter-widgets/base",
      "_model_module_version": "1.2.0",
      "_model_name": "LayoutModel",
      "_view_count": null,
      "_view_module": "@jupyter-widgets/base",
      "_view_module_version": "1.2.0",
      "_view_name": "LayoutView",
      "align_content": null,
      "align_items": null,
      "align_self": null,
      "border": null,
      "bottom": null,
      "display": null,
      "flex": null,
      "flex_flow": null,
      "grid_area": null,
      "grid_auto_columns": null,
      "grid_auto_flow": null,
      "grid_auto_rows": null,
      "grid_column": null,
      "grid_gap": null,
      "grid_row": null,
      "grid_template_areas": null,
      "grid_template_columns": null,
      "grid_template_rows": null,
      "height": null,
      "justify_content": null,
      "justify_items": null,
      "left": null,
      "margin": null,
      "max_height": null,
      "max_width": null,
      "min_height": null,
      "min_width": null,
      "object_fit": null,
      "object_position": null,
      "order": null,
      "overflow": null,
      "overflow_x": null,
      "overflow_y": null,
      "padding": null,
      "right": null,
      "top": null,
      "visibility": null,
      "width": null
     }
    }
   }
  }
 },
 "nbformat": 4,
 "nbformat_minor": 5
}
